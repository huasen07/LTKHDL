{
 "cells": [
  {
   "cell_type": "markdown",
   "metadata": {},
   "source": [
    "<h2>Mục Lục<span class=\"tocSkip\"></span></h2>\n",
    "<div class=\"toc\"><ul class=\"toc-item\"><li><span><a href=\"#Khám-phá-tập-dữ-liệu-Pima\" data-toc-modified-id=\"Khám-phá-tập-dữ-liệu-Pima\"><span class=\"toc-item-num\">1&nbsp;&nbsp;</span>Thu thập dữ liệu</a></span></li><li><span><a href=\"#Tiền-xử-lý\" data-toc-modified-id=\"Tiền-xử-lý\"><span class=\"toc-item-num\">2&nbsp;&nbsp;</span>Khám phá dữ liệu</a></span><ul class=\"toc-item\"></ul></li><li><span><a href=\"#Mô-hình-Logistic-Regression\" data-toc-modified-id=\"Mô-hình-Logistic-Regression\"><span class=\"toc-item-num\">3&nbsp;&nbsp;</span>Các câu hỏi cần trả lời</a></span></li><li><span><a href=\"#Trực-quan-dữ-liệu\" data-toc-modified-id=\"Trực-quan-dữ-liệu\"><span class=\"toc-item-num\">4&nbsp;&nbsp;</span>Nhìn lại quá trình làm đồ án</a></span></li><li><span><a href=\"#Đánh-giá-mô-hình\" data-toc-modified-id=\"Đánh-giá-mô-hình\"><span class=\"toc-item-num\">5&nbsp;&nbsp;</span>Tài liệu tham khảo</a></span></li></ul></div>"
   ]
  },
  {
   "cell_type": "markdown",
   "metadata": {},
   "source": [
    "# 1. Thu thập dữ liệu"
   ]
  },
  {
   "cell_type": "markdown",
   "metadata": {},
   "source": [
    "- **Chủ đề của dữ liệu:** \n",
    "- **Nguồn dữ liệu:** \n",
    "- **License:** \n",
    "- **Cách tác giả thu thập dữ liệu:** "
   ]
  },
  {
   "cell_type": "markdown",
   "metadata": {},
   "source": [
    "# 2. Khám phá dữ liệu"
   ]
  },
  {
   "cell_type": "markdown",
   "metadata": {},
   "source": [
    "# 3. Các câu hỏi cần trả lời"
   ]
  },
  {
   "cell_type": "markdown",
   "metadata": {},
   "source": [
    "# 4. Nhìn lại quá trình làm đồ án"
   ]
  },
  {
   "cell_type": "markdown",
   "metadata": {},
   "source": [
    "# 5. Tài liệu tham khảo"
   ]
  }
 ],
 "metadata": {
  "kernelspec": {
   "display_name": "Python 3",
   "language": "python",
   "name": "python3"
  },
  "language_info": {
   "codemirror_mode": {
    "name": "ipython",
    "version": 3
   },
   "file_extension": ".py",
   "mimetype": "text/x-python",
   "name": "python",
   "nbconvert_exporter": "python",
   "pygments_lexer": "ipython3",
   "version": "3.8.5"
  }
 },
 "nbformat": 4,
 "nbformat_minor": 4
}
