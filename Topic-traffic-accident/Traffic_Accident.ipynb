{
 "cells": [
  {
   "cell_type": "markdown",
   "metadata": {},
   "source": [
    "<h2>Mục Lục<span class=\"tocSkip\"></span></h2>\n",
    "<div class=\"toc\"><ul class=\"toc-item\"><li><span><a href=\"#Khám-phá-tập-dữ-liệu-Pima\" data-toc-modified-id=\"Khám-phá-tập-dữ-liệu-Pima\"><span class=\"toc-item-num\">1&nbsp;&nbsp;</span>Thu thập dữ liệu</a></span></li><li><span><a href=\"#Tiền-xử-lý\" data-toc-modified-id=\"Tiền-xử-lý\"><span class=\"toc-item-num\">2&nbsp;&nbsp;</span>Khám phá dữ liệu</a></span><ul class=\"toc-item\"></ul></li><li><span><a href=\"#Mô-hình-Logistic-Regression\" data-toc-modified-id=\"Mô-hình-Logistic-Regression\"><span class=\"toc-item-num\">3&nbsp;&nbsp;</span>Các câu hỏi cần trả lời</a></span></li><li><span><a href=\"#Trực-quan-dữ-liệu\" data-toc-modified-id=\"Trực-quan-dữ-liệu\"><span class=\"toc-item-num\">4&nbsp;&nbsp;</span>Nhìn lại quá trình làm đồ án</a></span></li><li><span><a href=\"#Đánh-giá-mô-hình\" data-toc-modified-id=\"Đánh-giá-mô-hình\"><span class=\"toc-item-num\">5&nbsp;&nbsp;</span>Tài liệu tham khảo</a></span></li></ul></div>"
   ]
  },
  {
   "cell_type": "markdown",
   "metadata": {},
   "source": [
    "# 1. Thu thập dữ liệu"
   ]
  },
  {
   "cell_type": "markdown",
   "metadata": {},
   "source": [
    "- **Chủ đề của dữ liệu: Traffic accident in UK** \n",
    "- **Nguồn dữ liệu: Kaggle**\n",
    "- **Link:** https://www.kaggle.com/daveianhickey/2000-16-traffic-flow-england-scotland-wales\n",
    "- **License:  Open Givernment Licence**\n",
    "- **Cách tác giả thu thập dữ liệu: The raw datasets are available from the UK Department of Transport website.** "
   ]
  },
  {
   "cell_type": "markdown",
   "metadata": {},
   "source": [
    "# 2. Khám phá dữ liệu"
   ]
  },
  {
   "cell_type": "code",
   "execution_count": 1,
   "metadata": {
    "ExecuteTime": {
     "end_time": "2021-06-30T04:10:27.588313Z",
     "start_time": "2021-06-30T04:10:26.525242Z"
    }
   },
   "outputs": [],
   "source": [
    "import matplotlib.pyplot as plt\n",
    "import pandas as pd\n",
    "import datetime\n",
    "import seaborn as sns\n",
    "from scipy import stats\n",
    "from statsmodels.tsa.seasonal import seasonal_decompose"
   ]
  },
  {
   "cell_type": "markdown",
   "metadata": {},
   "source": [
    "### Đọc dữ liệu từ file CSV đã tải xuống sẵn vào DataFrame"
   ]
  },
  {
   "cell_type": "markdown",
   "metadata": {
    "ExecuteTime": {
     "end_time": "2021-06-29T14:39:00.789303Z",
     "start_time": "2021-06-29T14:39:00.782921Z"
    }
   },
   "source": [
    "<b>Dữ liệu về số vụ tai nạn tại nước Anh từ năm 2012 - 2014</b>"
   ]
  },
  {
   "cell_type": "code",
   "execution_count": 2,
   "metadata": {
    "ExecuteTime": {
     "end_time": "2021-06-30T04:10:30.010334Z",
     "start_time": "2021-06-30T04:10:27.591155Z"
    }
   },
   "outputs": [
    {
     "name": "stderr",
     "output_type": "stream",
     "text": [
      "/home/luatvy/anaconda3/lib/python3.8/site-packages/IPython/core/interactiveshell.py:3146: DtypeWarning: Columns (31) have mixed types.Specify dtype option on import or set low_memory=False.\n",
      "  has_raised = await self.run_ast_nodes(code_ast.body, cell_name,\n"
     ]
    },
    {
     "data": {
      "text/html": [
       "<div>\n",
       "<style scoped>\n",
       "    .dataframe tbody tr th:only-of-type {\n",
       "        vertical-align: middle;\n",
       "    }\n",
       "\n",
       "    .dataframe tbody tr th {\n",
       "        vertical-align: top;\n",
       "    }\n",
       "\n",
       "    .dataframe thead th {\n",
       "        text-align: right;\n",
       "    }\n",
       "</style>\n",
       "<table border=\"1\" class=\"dataframe\">\n",
       "  <thead>\n",
       "    <tr style=\"text-align: right;\">\n",
       "      <th></th>\n",
       "      <th>Accident_Index</th>\n",
       "      <th>Location_Easting_OSGR</th>\n",
       "      <th>Location_Northing_OSGR</th>\n",
       "      <th>Longitude</th>\n",
       "      <th>Latitude</th>\n",
       "      <th>Police_Force</th>\n",
       "      <th>Accident_Severity</th>\n",
       "      <th>Number_of_Vehicles</th>\n",
       "      <th>Number_of_Casualties</th>\n",
       "      <th>Date</th>\n",
       "      <th>...</th>\n",
       "      <th>Pedestrian_Crossing-Physical_Facilities</th>\n",
       "      <th>Light_Conditions</th>\n",
       "      <th>Weather_Conditions</th>\n",
       "      <th>Road_Surface_Conditions</th>\n",
       "      <th>Special_Conditions_at_Site</th>\n",
       "      <th>Carriageway_Hazards</th>\n",
       "      <th>Urban_or_Rural_Area</th>\n",
       "      <th>Did_Police_Officer_Attend_Scene_of_Accident</th>\n",
       "      <th>LSOA_of_Accident_Location</th>\n",
       "      <th>Year</th>\n",
       "    </tr>\n",
       "  </thead>\n",
       "  <tbody>\n",
       "    <tr>\n",
       "      <th>0</th>\n",
       "      <td>201201BS70001</td>\n",
       "      <td>527200</td>\n",
       "      <td>178760</td>\n",
       "      <td>-0.169101</td>\n",
       "      <td>51.493429</td>\n",
       "      <td>1</td>\n",
       "      <td>3</td>\n",
       "      <td>2</td>\n",
       "      <td>1</td>\n",
       "      <td>19/01/2012</td>\n",
       "      <td>...</td>\n",
       "      <td>Pedestrian phase at traffic signal junction</td>\n",
       "      <td>Darkness: Street lights present and lit</td>\n",
       "      <td>Fine without high winds</td>\n",
       "      <td>Dry</td>\n",
       "      <td>None</td>\n",
       "      <td>None</td>\n",
       "      <td>1</td>\n",
       "      <td>Yes</td>\n",
       "      <td>E01002821</td>\n",
       "      <td>2012</td>\n",
       "    </tr>\n",
       "    <tr>\n",
       "      <th>1</th>\n",
       "      <td>201201BS70002</td>\n",
       "      <td>524930</td>\n",
       "      <td>181430</td>\n",
       "      <td>-0.200838</td>\n",
       "      <td>51.517931</td>\n",
       "      <td>1</td>\n",
       "      <td>3</td>\n",
       "      <td>2</td>\n",
       "      <td>1</td>\n",
       "      <td>04/01/2012</td>\n",
       "      <td>...</td>\n",
       "      <td>No physical crossing within 50 meters</td>\n",
       "      <td>Darkness: Street lights present and lit</td>\n",
       "      <td>Fine without high winds</td>\n",
       "      <td>Dry</td>\n",
       "      <td>None</td>\n",
       "      <td>None</td>\n",
       "      <td>1</td>\n",
       "      <td>Yes</td>\n",
       "      <td>E01004760</td>\n",
       "      <td>2012</td>\n",
       "    </tr>\n",
       "    <tr>\n",
       "      <th>2</th>\n",
       "      <td>201201BS70003</td>\n",
       "      <td>525860</td>\n",
       "      <td>178080</td>\n",
       "      <td>-0.188636</td>\n",
       "      <td>51.487618</td>\n",
       "      <td>1</td>\n",
       "      <td>3</td>\n",
       "      <td>2</td>\n",
       "      <td>1</td>\n",
       "      <td>10/01/2012</td>\n",
       "      <td>...</td>\n",
       "      <td>non-junction pedestrian crossing</td>\n",
       "      <td>Daylight: Street light present</td>\n",
       "      <td>Fine without high winds</td>\n",
       "      <td>Dry</td>\n",
       "      <td>None</td>\n",
       "      <td>None</td>\n",
       "      <td>1</td>\n",
       "      <td>Yes</td>\n",
       "      <td>E01002893</td>\n",
       "      <td>2012</td>\n",
       "    </tr>\n",
       "    <tr>\n",
       "      <th>3</th>\n",
       "      <td>201201BS70004</td>\n",
       "      <td>524980</td>\n",
       "      <td>181030</td>\n",
       "      <td>-0.200259</td>\n",
       "      <td>51.514325</td>\n",
       "      <td>1</td>\n",
       "      <td>3</td>\n",
       "      <td>1</td>\n",
       "      <td>1</td>\n",
       "      <td>18/01/2012</td>\n",
       "      <td>...</td>\n",
       "      <td>No physical crossing within 50 meters</td>\n",
       "      <td>Daylight: Street light present</td>\n",
       "      <td>Fine without high winds</td>\n",
       "      <td>Dry</td>\n",
       "      <td>None</td>\n",
       "      <td>None</td>\n",
       "      <td>1</td>\n",
       "      <td>Yes</td>\n",
       "      <td>E01002886</td>\n",
       "      <td>2012</td>\n",
       "    </tr>\n",
       "    <tr>\n",
       "      <th>4</th>\n",
       "      <td>201201BS70005</td>\n",
       "      <td>526170</td>\n",
       "      <td>179200</td>\n",
       "      <td>-0.183773</td>\n",
       "      <td>51.497614</td>\n",
       "      <td>1</td>\n",
       "      <td>3</td>\n",
       "      <td>1</td>\n",
       "      <td>1</td>\n",
       "      <td>17/01/2012</td>\n",
       "      <td>...</td>\n",
       "      <td>No physical crossing within 50 meters</td>\n",
       "      <td>Darkness: Street lights present and lit</td>\n",
       "      <td>Fine without high winds</td>\n",
       "      <td>Dry</td>\n",
       "      <td>None</td>\n",
       "      <td>None</td>\n",
       "      <td>1</td>\n",
       "      <td>Yes</td>\n",
       "      <td>E01002890</td>\n",
       "      <td>2012</td>\n",
       "    </tr>\n",
       "  </tbody>\n",
       "</table>\n",
       "<p>5 rows × 33 columns</p>\n",
       "</div>"
      ],
      "text/plain": [
       "  Accident_Index  Location_Easting_OSGR  Location_Northing_OSGR  Longitude  \\\n",
       "0  201201BS70001                 527200                  178760  -0.169101   \n",
       "1  201201BS70002                 524930                  181430  -0.200838   \n",
       "2  201201BS70003                 525860                  178080  -0.188636   \n",
       "3  201201BS70004                 524980                  181030  -0.200259   \n",
       "4  201201BS70005                 526170                  179200  -0.183773   \n",
       "\n",
       "    Latitude  Police_Force  Accident_Severity  Number_of_Vehicles  \\\n",
       "0  51.493429             1                  3                   2   \n",
       "1  51.517931             1                  3                   2   \n",
       "2  51.487618             1                  3                   2   \n",
       "3  51.514325             1                  3                   1   \n",
       "4  51.497614             1                  3                   1   \n",
       "\n",
       "   Number_of_Casualties        Date  ...  \\\n",
       "0                     1  19/01/2012  ...   \n",
       "1                     1  04/01/2012  ...   \n",
       "2                     1  10/01/2012  ...   \n",
       "3                     1  18/01/2012  ...   \n",
       "4                     1  17/01/2012  ...   \n",
       "\n",
       "       Pedestrian_Crossing-Physical_Facilities  \\\n",
       "0  Pedestrian phase at traffic signal junction   \n",
       "1        No physical crossing within 50 meters   \n",
       "2             non-junction pedestrian crossing   \n",
       "3        No physical crossing within 50 meters   \n",
       "4        No physical crossing within 50 meters   \n",
       "\n",
       "                          Light_Conditions       Weather_Conditions  \\\n",
       "0  Darkness: Street lights present and lit  Fine without high winds   \n",
       "1  Darkness: Street lights present and lit  Fine without high winds   \n",
       "2           Daylight: Street light present  Fine without high winds   \n",
       "3           Daylight: Street light present  Fine without high winds   \n",
       "4  Darkness: Street lights present and lit  Fine without high winds   \n",
       "\n",
       "  Road_Surface_Conditions  Special_Conditions_at_Site  Carriageway_Hazards  \\\n",
       "0                     Dry                        None                 None   \n",
       "1                     Dry                        None                 None   \n",
       "2                     Dry                        None                 None   \n",
       "3                     Dry                        None                 None   \n",
       "4                     Dry                        None                 None   \n",
       "\n",
       "  Urban_or_Rural_Area  Did_Police_Officer_Attend_Scene_of_Accident  \\\n",
       "0                   1                                          Yes   \n",
       "1                   1                                          Yes   \n",
       "2                   1                                          Yes   \n",
       "3                   1                                          Yes   \n",
       "4                   1                                          Yes   \n",
       "\n",
       "   LSOA_of_Accident_Location  Year  \n",
       "0                  E01002821  2012  \n",
       "1                  E01004760  2012  \n",
       "2                  E01002893  2012  \n",
       "3                  E01002886  2012  \n",
       "4                  E01002890  2012  \n",
       "\n",
       "[5 rows x 33 columns]"
      ]
     },
     "execution_count": 2,
     "metadata": {},
     "output_type": "execute_result"
    }
   ],
   "source": [
    "df = pd.read_csv(\"accidents_2012_to_2014.csv\")\n",
    "df.head()"
   ]
  },
  {
   "cell_type": "markdown",
   "metadata": {},
   "source": [
    "### Dữ liệu gồm có bao nhiêu dòng và bao nhiêu cột?"
   ]
  },
  {
   "cell_type": "code",
   "execution_count": 3,
   "metadata": {
    "ExecuteTime": {
     "end_time": "2021-06-30T04:10:30.020048Z",
     "start_time": "2021-06-30T04:10:30.013584Z"
    }
   },
   "outputs": [
    {
     "data": {
      "text/plain": [
       "(464697, 33)"
      ]
     },
     "execution_count": 3,
     "metadata": {},
     "output_type": "execute_result"
    }
   ],
   "source": [
    "df.shape"
   ]
  },
  {
   "cell_type": "markdown",
   "metadata": {},
   "source": [
    "- Dữ liệu gồm 464.697 dòng và 33 cột"
   ]
  },
  {
   "cell_type": "markdown",
   "metadata": {
    "ExecuteTime": {
     "end_time": "2021-06-29T14:28:25.077221Z",
     "start_time": "2021-06-29T14:28:25.067247Z"
    }
   },
   "source": [
    "### Mỗi dòng có ý nghĩa gì? Có vấn đề các dòng có ý nghĩa khác nhau không?"
   ]
  },
  {
   "cell_type": "markdown",
   "metadata": {},
   "source": [
    "- Một dòng cho biết thông tin của một vụ tai nạn. \n",
    "- Các dòng thì có ý nghĩa giống nhau."
   ]
  },
  {
   "cell_type": "markdown",
   "metadata": {},
   "source": [
    "### Dữ liệu có các dòng bị lặp không?"
   ]
  },
  {
   "cell_type": "code",
   "execution_count": 4,
   "metadata": {
    "ExecuteTime": {
     "end_time": "2021-06-30T04:10:30.978793Z",
     "start_time": "2021-06-30T04:10:30.022200Z"
    }
   },
   "outputs": [
    {
     "data": {
      "text/plain": [
       "True"
      ]
     },
     "execution_count": 4,
     "metadata": {},
     "output_type": "execute_result"
    }
   ],
   "source": [
    "df.duplicated().any()"
   ]
  },
  {
   "cell_type": "markdown",
   "metadata": {},
   "source": [
    "- Tồn tại những dòng trùng lặp.\n",
    "- Do dữ liệu lớn nên trong quá trình thu thập bị trùng"
   ]
  },
  {
   "cell_type": "code",
   "execution_count": 5,
   "metadata": {
    "ExecuteTime": {
     "end_time": "2021-06-30T04:10:32.004660Z",
     "start_time": "2021-06-30T04:10:30.981129Z"
    }
   },
   "outputs": [
    {
     "data": {
      "text/plain": [
       "(430550, 33)"
      ]
     },
     "execution_count": 5,
     "metadata": {},
     "output_type": "execute_result"
    }
   ],
   "source": [
    "df = df.drop_duplicates().reset_index(drop=True)\n",
    "df.shape"
   ]
  },
  {
   "cell_type": "markdown",
   "metadata": {},
   "source": [
    "- Xóa các dòng trùng lặp dữ liệu còn 430.550 dòng"
   ]
  },
  {
   "cell_type": "markdown",
   "metadata": {},
   "source": [
    "### Mỗi cột có ý nghĩa gì?"
   ]
  },
  {
   "cell_type": "markdown",
   "metadata": {},
   "source": [
    "Mô tả các cột như sau:\n",
    "- **Accident_Index**: Mã định danh cho một vụ tai nạn.\n",
    "- **Location_Easting_OSGR** và **Location_Northing_OSGR**: Tọa độ sử dụng Grid reference system để tham chiếu tìm vị trí. (Có thể sử dụng trang https://magic.defra.gov.uk/ để tìm vị trí của tọa độ đã cho) .\n",
    "- **Longitude** và **Latitude**: Kinh độ và vĩ độ của vị trí xảy ra tai nạn.\n",
    "- **Police_Force**: Lực lượng cảnh sát được giao nhiệm vụ xử lí vụ tai nạn.\n",
    "- **Accident_Severity**: Mức độ của tai nạn (1-nặng, 2-nhẹ, 3-nặng) .\n",
    "- **Number_of_Vehicles**: Số lượng phương tiện trong vụ tai nạn.\n",
    "- **Number_of_Casualties**: Số lượng thương vong (bị thương hoặc tử vong).\n",
    "- **Date**: Ngày tháng năm xảy ra tai nạn\n",
    "- **Day_of_Week**: Thứ trong tuần xảy ra tai nạn. (chủ nhật, thứ hai, ...)\n",
    "- **Time**: Giờ và phút xảy ra tai nạn (tính theo múi giờ UK)\n",
    "- **Local_Authority_(District)**: thị trấn, quận nơi xảy ra tai nạn.\n",
    "- **Local_Authority_(Highway)**: Cơ quan chịu trách nhiệm vận hành, quản lý và bảo trì đường giao thông công cộng tại nơi xảy ra tai nạn.\n",
    "- **1st_Road_Class**: Phân loại đường. (đường của nhà nước, đường của địa phương tự quản, ...)\n",
    "- **1st_Road_Number**: Tên đường xảy ra tai nạn. (dạng số)\n",
    "- **Road_Type**: Loại đường (đường một chiều, đường nhánh, ...)\n",
    "- **Speed_limit**: Tốc độ cho phép trên con đường xảy ra tai nạn.\n",
    "- **Junction_Detail**: Chi tiết nút giao thông.\n",
    "- **Junction_Control**: kiểm soát nút giao thông. (đèn tín hiệu tự động, tự do di chuyển không kiểm soát, ...).\n",
    "- **2nd_Road_Class**: Nếu vụ tai nạn xảy ra tại giao hai con đường thì là phân loại cho đường thứ hai.\n",
    "- **2nd_Road_Number**: Tương tự trên nếu xảy ra tại nơi giao hai con đường thì là số đường của đường thứ hai.\n",
    "- **Pedestrian_Crossing-Human_Control**: Có hay không người điều khiển khu vực qua đường dành cho người đi bộ trong bán kính 50 mét ở khu tai nạn.\n",
    "- **Pedestrian_Crossing-Physical_Facilities**: Cơ sở vật chất của khu vực qua đường cho người đi bộ (vạch kẻ đường, đường hầm, cầu vượt, ...)\n",
    "- **Light_Conditions**: Điều kiện ánh sáng tại nơi xảy ra tai nạn.\n",
    "- **Weather_Conditions**: Điều kiện thời tiết tại nơi xảy ra tai nạn.\n",
    "- **Road_Surface_Conditions**: Điều kiện mặt đường tại nơi xảy ra tai nạn.\n",
    "- **Special_Conditions_at_Site**: Điều kiện đặc biệt nào khác tại nơi xảy ra tai nạn. (đường hư, ...)\n",
    "- **Carriageway_Hazards**: Có vật cản gì tại nơi xảy ra tai nạn hay không. (Động vật băng qua đường, ...)\n",
    "- **Urban_or_Rural_Area**: Nội ô hay ngoại ô.\n",
    "- **Did_Police_Officer_Attend_Scene_of_Accident**: Cảnh sát có đến hiện trường vụ tai nạn không.\n",
    "- **LSOA_of_Accident_Location**: Vị trí cho những vùng nhỏ không có trên bản đồ lớn ở Anh.\n",
    "- **Year**: Năm xảy ra tai nạn."
   ]
  },
  {
   "cell_type": "markdown",
   "metadata": {},
   "source": [
    "### Mỗi cột hiện đang có kiểu dữ liệu gì? Có cột nào có kiểu dữ liệu chưa phù hợp để có thể xử lý tiếp không?"
   ]
  },
  {
   "cell_type": "code",
   "execution_count": 6,
   "metadata": {
    "ExecuteTime": {
     "end_time": "2021-06-30T04:10:32.014052Z",
     "start_time": "2021-06-30T04:10:32.006891Z"
    }
   },
   "outputs": [
    {
     "data": {
      "text/plain": [
       "Accident_Index                                  object\n",
       "Location_Easting_OSGR                            int64\n",
       "Location_Northing_OSGR                           int64\n",
       "Longitude                                      float64\n",
       "Latitude                                       float64\n",
       "Police_Force                                     int64\n",
       "Accident_Severity                                int64\n",
       "Number_of_Vehicles                               int64\n",
       "Number_of_Casualties                             int64\n",
       "Date                                            object\n",
       "Day_of_Week                                      int64\n",
       "Time                                            object\n",
       "Local_Authority_(District)                       int64\n",
       "Local_Authority_(Highway)                       object\n",
       "1st_Road_Class                                   int64\n",
       "1st_Road_Number                                  int64\n",
       "Road_Type                                       object\n",
       "Speed_limit                                      int64\n",
       "Junction_Detail                                float64\n",
       "Junction_Control                                object\n",
       "2nd_Road_Class                                   int64\n",
       "2nd_Road_Number                                  int64\n",
       "Pedestrian_Crossing-Human_Control               object\n",
       "Pedestrian_Crossing-Physical_Facilities         object\n",
       "Light_Conditions                                object\n",
       "Weather_Conditions                              object\n",
       "Road_Surface_Conditions                         object\n",
       "Special_Conditions_at_Site                      object\n",
       "Carriageway_Hazards                             object\n",
       "Urban_or_Rural_Area                              int64\n",
       "Did_Police_Officer_Attend_Scene_of_Accident     object\n",
       "LSOA_of_Accident_Location                       object\n",
       "Year                                             int64\n",
       "dtype: object"
      ]
     },
     "execution_count": 6,
     "metadata": {},
     "output_type": "execute_result"
    }
   ],
   "source": [
    "df.dtypes"
   ]
  },
  {
   "cell_type": "markdown",
   "metadata": {},
   "source": [
    "### Chuyển các cột có kiểu dữ liệu không phù hợp sang đúng kiểu dữ liệu của nó"
   ]
  },
  {
   "cell_type": "code",
   "execution_count": 7,
   "metadata": {},
   "outputs": [],
   "source": [
    "df['Accident_Severity'] = df['Accident_Severity'].astype('str')\n",
    "df['Local_Authority_(District)'] = df['Local_Authority_(District)'].astype('str')\n",
    "df['Speed_limit'] = df['Speed_limit'].astype('str')\n",
    "df['Urban_or_Rural_Area'] = df['Urban_or_Rural_Area'].astype('str')"
   ]
  },
  {
   "cell_type": "markdown",
   "metadata": {
    "ExecuteTime": {
     "end_time": "2021-06-29T15:21:03.713669Z",
     "start_time": "2021-06-29T15:21:03.707575Z"
    }
   },
   "source": [
    "**Các cột có dạng kiểu object**"
   ]
  },
  {
   "cell_type": "code",
   "execution_count": 8,
   "metadata": {
    "ExecuteTime": {
     "end_time": "2021-06-30T04:10:32.129696Z",
     "start_time": "2021-06-30T04:10:32.017874Z"
    }
   },
   "outputs": [
    {
     "data": {
      "text/plain": [
       "Index(['Accident_Index', 'Accident_Severity', 'Date', 'Time',\n",
       "       'Local_Authority_(District)', 'Local_Authority_(Highway)', 'Road_Type',\n",
       "       'Speed_limit', 'Junction_Control', 'Pedestrian_Crossing-Human_Control',\n",
       "       'Pedestrian_Crossing-Physical_Facilities', 'Light_Conditions',\n",
       "       'Weather_Conditions', 'Road_Surface_Conditions',\n",
       "       'Special_Conditions_at_Site', 'Carriageway_Hazards',\n",
       "       'Urban_or_Rural_Area', 'Did_Police_Officer_Attend_Scene_of_Accident',\n",
       "       'LSOA_of_Accident_Location'],\n",
       "      dtype='object')"
      ]
     },
     "execution_count": 8,
     "metadata": {},
     "output_type": "execute_result"
    }
   ],
   "source": [
    "obj_cols = df.select_dtypes(include='object').columns\n",
    "obj_cols"
   ]
  },
  {
   "cell_type": "markdown",
   "metadata": {},
   "source": [
    "Ta sẽ xem cụ thể trong các cột Object có các kiểu dữ liệu gì?"
   ]
  },
  {
   "cell_type": "code",
   "execution_count": 9,
   "metadata": {
    "ExecuteTime": {
     "end_time": "2021-06-30T04:10:32.136268Z",
     "start_time": "2021-06-30T04:10:32.133132Z"
    }
   },
   "outputs": [],
   "source": [
    "def open_object_dtype(s):\n",
    "    dtypes = set()\n",
    "    s.apply(lambda x: dtypes.add(type(x)))\n",
    "    return dtypes"
   ]
  },
  {
   "cell_type": "code",
   "execution_count": 10,
   "metadata": {
    "ExecuteTime": {
     "end_time": "2021-06-30T04:10:33.626953Z",
     "start_time": "2021-06-30T04:10:32.141521Z"
    }
   },
   "outputs": [
    {
     "name": "stdout",
     "output_type": "stream",
     "text": [
      "Accident_Index {<class 'str'>}\n",
      "Accident_Severity {<class 'str'>}\n",
      "Date {<class 'str'>}\n",
      "Time {<class 'str'>, <class 'float'>}\n",
      "Local_Authority_(District) {<class 'str'>}\n",
      "Local_Authority_(Highway) {<class 'str'>}\n",
      "Road_Type {<class 'str'>}\n",
      "Speed_limit {<class 'str'>}\n",
      "Junction_Control {<class 'str'>, <class 'float'>}\n",
      "Pedestrian_Crossing-Human_Control {<class 'str'>}\n",
      "Pedestrian_Crossing-Physical_Facilities {<class 'str'>}\n",
      "Light_Conditions {<class 'str'>}\n",
      "Weather_Conditions {<class 'str'>}\n",
      "Road_Surface_Conditions {<class 'str'>, <class 'float'>}\n",
      "Special_Conditions_at_Site {<class 'str'>, <class 'float'>}\n",
      "Carriageway_Hazards {<class 'str'>, <class 'float'>}\n",
      "Urban_or_Rural_Area {<class 'str'>}\n",
      "Did_Police_Officer_Attend_Scene_of_Accident {<class 'str'>, <class 'float'>}\n",
      "LSOA_of_Accident_Location {<class 'str'>, <class 'float'>}\n"
     ]
    }
   ],
   "source": [
    "for i in range(0,len(obj_cols)):    \n",
    "    print(obj_cols[i], open_object_dtype(df[obj_cols[i]]))"
   ]
  },
  {
   "cell_type": "markdown",
   "metadata": {},
   "source": [
    "* Ta sẽ tiền xử lí ở cột `Date` khi dữ liệu ở đây chưa ở dạng datetime để dễ xử lí.\n",
    "* Còn các cột chứa chuỗi str và chứa cả kiểu float tức là chứa các giá trị nan."
   ]
  },
  {
   "cell_type": "markdown",
   "metadata": {},
   "source": [
    "## Tiền xử lí"
   ]
  },
  {
   "cell_type": "markdown",
   "metadata": {},
   "source": [
    "### Chuyển dtype của cột \"Date\" sang datetime"
   ]
  },
  {
   "cell_type": "code",
   "execution_count": 11,
   "metadata": {
    "ExecuteTime": {
     "end_time": "2021-06-30T04:10:34.064042Z",
     "start_time": "2021-06-30T04:10:33.628763Z"
    }
   },
   "outputs": [],
   "source": [
    "df.Date = pd.to_datetime(df.Date)\n",
    "df.Time = pd.to_datetime(df.Time).dt.time"
   ]
  },
  {
   "cell_type": "markdown",
   "metadata": {},
   "source": [
    "## Tiếp tục khám phá dữ liệu"
   ]
  },
  {
   "cell_type": "markdown",
   "metadata": {},
   "source": [
    "### Với mỗi cột có kiểu dữ liệu dạng numeric, các giá trị được phân bố như thế nào?"
   ]
  },
  {
   "cell_type": "markdown",
   "metadata": {},
   "source": [
    "**Ta có 12 cột Numeric**: \"Location_Easting_OSGR\",\n",
    " \"Location_Northing_OSGR\",\n",
    " \"Longitude\",\n",
    " \"Latitude\",\n",
    " \"Number_of_Vehicles\",\n",
    " \"Number_of_Casualties\",\n",
    " \"Date\",\n",
    " \"Day_of_Week\",\n",
    " \"Time\",\n",
    " \"1st_Road_Number\",\n",
    " \"2nd_Road_Number\",\n",
    " \"Year\""
   ]
  },
  {
   "cell_type": "markdown",
   "metadata": {
    "ExecuteTime": {
     "end_time": "2021-06-30T03:37:35.822455Z",
     "start_time": "2021-06-30T03:37:35.812202Z"
    }
   },
   "source": [
    "Ta sẽ tìm tỉ lệ % các giá trị thiếu, min và max của mỗi cột numeric."
   ]
  },
  {
   "cell_type": "code",
   "execution_count": 12,
   "metadata": {
    "ExecuteTime": {
     "end_time": "2021-06-30T04:10:35.710814Z",
     "start_time": "2021-06-30T04:10:34.065960Z"
    }
   },
   "outputs": [
    {
     "data": {
      "text/html": [
       "<div>\n",
       "<style scoped>\n",
       "    .dataframe tbody tr th:only-of-type {\n",
       "        vertical-align: middle;\n",
       "    }\n",
       "\n",
       "    .dataframe tbody tr th {\n",
       "        vertical-align: top;\n",
       "    }\n",
       "\n",
       "    .dataframe thead th {\n",
       "        text-align: right;\n",
       "    }\n",
       "</style>\n",
       "<table border=\"1\" class=\"dataframe\">\n",
       "  <thead>\n",
       "    <tr style=\"text-align: right;\">\n",
       "      <th></th>\n",
       "      <th>Location_Easting_OSGR</th>\n",
       "      <th>Location_Northing_OSGR</th>\n",
       "      <th>Longitude</th>\n",
       "      <th>Latitude</th>\n",
       "      <th>Number_of_Vehicles</th>\n",
       "      <th>Number_of_Casualties</th>\n",
       "      <th>Date</th>\n",
       "      <th>Day_of_Week</th>\n",
       "      <th>Time</th>\n",
       "      <th>1st_Road_Number</th>\n",
       "      <th>2nd_Road_Number</th>\n",
       "      <th>Year</th>\n",
       "    </tr>\n",
       "  </thead>\n",
       "  <tbody>\n",
       "    <tr>\n",
       "      <th>missing_ratio</th>\n",
       "      <td>0.0</td>\n",
       "      <td>0.0</td>\n",
       "      <td>0.000000</td>\n",
       "      <td>0.000000</td>\n",
       "      <td>0.0</td>\n",
       "      <td>0.0</td>\n",
       "      <td>0</td>\n",
       "      <td>0.0</td>\n",
       "      <td>0.003019</td>\n",
       "      <td>0.0</td>\n",
       "      <td>0.0</td>\n",
       "      <td>0.0</td>\n",
       "    </tr>\n",
       "    <tr>\n",
       "      <th>min</th>\n",
       "      <td>65510.0</td>\n",
       "      <td>10290.0</td>\n",
       "      <td>-7.509162</td>\n",
       "      <td>49.912941</td>\n",
       "      <td>1.0</td>\n",
       "      <td>1.0</td>\n",
       "      <td>2012-01-01 00:00:00</td>\n",
       "      <td>1.0</td>\n",
       "      <td>NaN</td>\n",
       "      <td>0.0</td>\n",
       "      <td>-1.0</td>\n",
       "      <td>2012.0</td>\n",
       "    </tr>\n",
       "    <tr>\n",
       "      <th>max</th>\n",
       "      <td>655370.0</td>\n",
       "      <td>1190858.0</td>\n",
       "      <td>1.759382</td>\n",
       "      <td>60.597984</td>\n",
       "      <td>67.0</td>\n",
       "      <td>93.0</td>\n",
       "      <td>2014-12-31 00:00:00</td>\n",
       "      <td>7.0</td>\n",
       "      <td>NaN</td>\n",
       "      <td>9999.0</td>\n",
       "      <td>9999.0</td>\n",
       "      <td>2014.0</td>\n",
       "    </tr>\n",
       "  </tbody>\n",
       "</table>\n",
       "</div>"
      ],
      "text/plain": [
       "               Location_Easting_OSGR  Location_Northing_OSGR  Longitude  \\\n",
       "missing_ratio                    0.0                     0.0   0.000000   \n",
       "min                          65510.0                 10290.0  -7.509162   \n",
       "max                         655370.0               1190858.0   1.759382   \n",
       "\n",
       "                Latitude  Number_of_Vehicles  Number_of_Casualties  \\\n",
       "missing_ratio   0.000000                 0.0                   0.0   \n",
       "min            49.912941                 1.0                   1.0   \n",
       "max            60.597984                67.0                  93.0   \n",
       "\n",
       "                              Date  Day_of_Week      Time  1st_Road_Number  \\\n",
       "missing_ratio                    0          0.0  0.003019              0.0   \n",
       "min            2012-01-01 00:00:00          1.0       NaN              0.0   \n",
       "max            2014-12-31 00:00:00          7.0       NaN           9999.0   \n",
       "\n",
       "               2nd_Road_Number    Year  \n",
       "missing_ratio              0.0     0.0  \n",
       "min                       -1.0  2012.0  \n",
       "max                     9999.0  2014.0  "
      ]
     },
     "execution_count": 12,
     "metadata": {},
     "output_type": "execute_result"
    }
   ],
   "source": [
    "df_temp=df[[\"Location_Easting_OSGR\", \"Location_Northing_OSGR\", \"Longitude\", \"Latitude\", \"Number_of_Vehicles\", \"Number_of_Casualties\", \"Date\", \"Day_of_Week\", \"Time\", \"1st_Road_Number\", \"2nd_Road_Number\", \"Year\"]]\n",
    "def missing_ratio(df):\n",
    "    return df.isna().mean() * 100\n",
    "nume_col_profiles_df = df_temp.agg([missing_ratio,pd.Series.min,pd.Series.max])\n",
    "nume_col_profiles_df"
   ]
  },
  {
   "cell_type": "markdown",
   "metadata": {
    "ExecuteTime": {
     "end_time": "2021-06-30T03:41:56.576230Z",
     "start_time": "2021-06-30T03:41:56.568277Z"
    }
   },
   "source": [
    "Cột Time có giá trị thiếu các cột còn lại thì đầy đủ. Ở cột 2nd_Road_Number giá trị min là -1, theo mô tả thì -1 tức là nan (không có giá trị).<br>\n",
    "Số lượng giá trị thiếu của Time là rất rất nhỏ so với tổng số lượng dòng nên ta sẽ bỏ đi các giá trị thiếu này luôn."
   ]
  },
  {
   "cell_type": "code",
   "execution_count": 13,
   "metadata": {
    "ExecuteTime": {
     "end_time": "2021-06-30T04:10:35.935172Z",
     "start_time": "2021-06-30T04:10:35.713068Z"
    }
   },
   "outputs": [],
   "source": [
    "df=df.dropna(subset=['Time'])"
   ]
  },
  {
   "cell_type": "code",
   "execution_count": 14,
   "metadata": {
    "ExecuteTime": {
     "end_time": "2021-06-30T04:10:37.581005Z",
     "start_time": "2021-06-30T04:10:35.937045Z"
    }
   },
   "outputs": [
    {
     "data": {
      "text/html": [
       "<div>\n",
       "<style scoped>\n",
       "    .dataframe tbody tr th:only-of-type {\n",
       "        vertical-align: middle;\n",
       "    }\n",
       "\n",
       "    .dataframe tbody tr th {\n",
       "        vertical-align: top;\n",
       "    }\n",
       "\n",
       "    .dataframe thead th {\n",
       "        text-align: right;\n",
       "    }\n",
       "</style>\n",
       "<table border=\"1\" class=\"dataframe\">\n",
       "  <thead>\n",
       "    <tr style=\"text-align: right;\">\n",
       "      <th></th>\n",
       "      <th>Location_Easting_OSGR</th>\n",
       "      <th>Location_Northing_OSGR</th>\n",
       "      <th>Longitude</th>\n",
       "      <th>Latitude</th>\n",
       "      <th>Number_of_Vehicles</th>\n",
       "      <th>Number_of_Casualties</th>\n",
       "      <th>Date</th>\n",
       "      <th>Day_of_Week</th>\n",
       "      <th>Time</th>\n",
       "      <th>1st_Road_Number</th>\n",
       "      <th>2nd_Road_Number</th>\n",
       "      <th>Year</th>\n",
       "    </tr>\n",
       "  </thead>\n",
       "  <tbody>\n",
       "    <tr>\n",
       "      <th>missing_ratio</th>\n",
       "      <td>0.0</td>\n",
       "      <td>0.0</td>\n",
       "      <td>0.000000</td>\n",
       "      <td>0.000000</td>\n",
       "      <td>0.0</td>\n",
       "      <td>0.0</td>\n",
       "      <td>0</td>\n",
       "      <td>0.0</td>\n",
       "      <td>0.003019</td>\n",
       "      <td>0.0</td>\n",
       "      <td>0.0</td>\n",
       "      <td>0.0</td>\n",
       "    </tr>\n",
       "    <tr>\n",
       "      <th>min</th>\n",
       "      <td>65510.0</td>\n",
       "      <td>10290.0</td>\n",
       "      <td>-7.509162</td>\n",
       "      <td>49.912941</td>\n",
       "      <td>1.0</td>\n",
       "      <td>1.0</td>\n",
       "      <td>2012-01-01 00:00:00</td>\n",
       "      <td>1.0</td>\n",
       "      <td>NaN</td>\n",
       "      <td>0.0</td>\n",
       "      <td>-1.0</td>\n",
       "      <td>2012.0</td>\n",
       "    </tr>\n",
       "    <tr>\n",
       "      <th>max</th>\n",
       "      <td>655370.0</td>\n",
       "      <td>1190858.0</td>\n",
       "      <td>1.759382</td>\n",
       "      <td>60.597984</td>\n",
       "      <td>67.0</td>\n",
       "      <td>93.0</td>\n",
       "      <td>2014-12-31 00:00:00</td>\n",
       "      <td>7.0</td>\n",
       "      <td>NaN</td>\n",
       "      <td>9999.0</td>\n",
       "      <td>9999.0</td>\n",
       "      <td>2014.0</td>\n",
       "    </tr>\n",
       "  </tbody>\n",
       "</table>\n",
       "</div>"
      ],
      "text/plain": [
       "               Location_Easting_OSGR  Location_Northing_OSGR  Longitude  \\\n",
       "missing_ratio                    0.0                     0.0   0.000000   \n",
       "min                          65510.0                 10290.0  -7.509162   \n",
       "max                         655370.0               1190858.0   1.759382   \n",
       "\n",
       "                Latitude  Number_of_Vehicles  Number_of_Casualties  \\\n",
       "missing_ratio   0.000000                 0.0                   0.0   \n",
       "min            49.912941                 1.0                   1.0   \n",
       "max            60.597984                67.0                  93.0   \n",
       "\n",
       "                              Date  Day_of_Week      Time  1st_Road_Number  \\\n",
       "missing_ratio                    0          0.0  0.003019              0.0   \n",
       "min            2012-01-01 00:00:00          1.0       NaN              0.0   \n",
       "max            2014-12-31 00:00:00          7.0       NaN           9999.0   \n",
       "\n",
       "               2nd_Road_Number    Year  \n",
       "missing_ratio              0.0     0.0  \n",
       "min                       -1.0  2012.0  \n",
       "max                     9999.0  2014.0  "
      ]
     },
     "execution_count": 14,
     "metadata": {},
     "output_type": "execute_result"
    }
   ],
   "source": [
    "nume_col_profiles_df = df_temp.agg([missing_ratio,min,max])\n",
    "nume_col_profiles_df"
   ]
  },
  {
   "cell_type": "markdown",
   "metadata": {},
   "source": [
    "### Với mỗi cột có kiểu dữ liệu dạng categorical, các giá trị được phân bố như thế nào?"
   ]
  },
  {
   "cell_type": "markdown",
   "metadata": {},
   "source": [
    "**Ta có 21 cột dạng Categorical gồm:** \"Accident_Index\",\n",
    " \"Police_Force\",\n",
    " \"Accident_Severity\",\n",
    " \"Local_Authority_(District)\",\n",
    " \"Local_Authority_(Highway)\",\n",
    " \"1st_Road_Class\",\n",
    " \"Road_Type\",\n",
    " \"Speed_limit\",\n",
    " \"Junction_Detail\",\n",
    " \"Junction_Control\",\n",
    " \"2nd_Road_Class\",\n",
    " \"Pedestrian_Crossing-Human_Control\",\n",
    " \"Pedestrian_Crossing-Physical_Facilities\",\n",
    " \"Light_Conditions\",\n",
    " \"Weather_Conditions\",\n",
    " \"Road_Surface_Conditions\",\n",
    " \"Special_Conditions_at_Site\",\n",
    " \"Carriageway_Hazards\",\n",
    " \"Urban_or_Rural_Area\",\n",
    " \"Did_Police_Officer_Attend_Scene_of_Accident\",\n",
    " \"LSOA_of_Accident_Location\""
   ]
  },
  {
   "cell_type": "markdown",
   "metadata": {
    "ExecuteTime": {
     "end_time": "2021-06-30T04:13:10.246898Z",
     "start_time": "2021-06-30T04:13:10.241020Z"
    }
   },
   "source": [
    "Với mỗi cột categorical, ta tính tỉ lệ % giá trị thiếu, số lượng giá trị khác nhau, list/array các giá trị khác nhau."
   ]
  },
  {
   "cell_type": "code",
   "execution_count": 15,
   "metadata": {
    "ExecuteTime": {
     "end_time": "2021-06-30T04:15:25.237424Z",
     "start_time": "2021-06-30T04:15:23.735784Z"
    }
   },
   "outputs": [
    {
     "data": {
      "text/html": [
       "<div>\n",
       "<style scoped>\n",
       "    .dataframe tbody tr th:only-of-type {\n",
       "        vertical-align: middle;\n",
       "    }\n",
       "\n",
       "    .dataframe tbody tr th {\n",
       "        vertical-align: top;\n",
       "    }\n",
       "\n",
       "    .dataframe thead th {\n",
       "        text-align: right;\n",
       "    }\n",
       "</style>\n",
       "<table border=\"1\" class=\"dataframe\">\n",
       "  <thead>\n",
       "    <tr style=\"text-align: right;\">\n",
       "      <th></th>\n",
       "      <th>Accident_Index</th>\n",
       "      <th>Police_Force</th>\n",
       "      <th>Accident_Severity</th>\n",
       "      <th>Local_Authority_(District)</th>\n",
       "      <th>Local_Authority_(Highway)</th>\n",
       "      <th>1st_Road_Class</th>\n",
       "      <th>Road_Type</th>\n",
       "      <th>Speed_limit</th>\n",
       "      <th>Junction_Detail</th>\n",
       "      <th>Junction_Control</th>\n",
       "      <th>...</th>\n",
       "      <th>Pedestrian_Crossing-Human_Control</th>\n",
       "      <th>Pedestrian_Crossing-Physical_Facilities</th>\n",
       "      <th>Light_Conditions</th>\n",
       "      <th>Weather_Conditions</th>\n",
       "      <th>Road_Surface_Conditions</th>\n",
       "      <th>Special_Conditions_at_Site</th>\n",
       "      <th>Carriageway_Hazards</th>\n",
       "      <th>Urban_or_Rural_Area</th>\n",
       "      <th>Did_Police_Officer_Attend_Scene_of_Accident</th>\n",
       "      <th>LSOA_of_Accident_Location</th>\n",
       "    </tr>\n",
       "  </thead>\n",
       "  <tbody>\n",
       "    <tr>\n",
       "      <th>missing_ratio</th>\n",
       "      <td>0</td>\n",
       "      <td>0</td>\n",
       "      <td>0</td>\n",
       "      <td>0</td>\n",
       "      <td>0</td>\n",
       "      <td>0</td>\n",
       "      <td>0</td>\n",
       "      <td>0</td>\n",
       "      <td>100</td>\n",
       "      <td>38.927</td>\n",
       "      <td>...</td>\n",
       "      <td>0</td>\n",
       "      <td>0</td>\n",
       "      <td>0</td>\n",
       "      <td>0</td>\n",
       "      <td>0.172343</td>\n",
       "      <td>0.000464536</td>\n",
       "      <td>0.000696804</td>\n",
       "      <td>0</td>\n",
       "      <td>0.000464536</td>\n",
       "      <td>6.66702</td>\n",
       "    </tr>\n",
       "    <tr>\n",
       "      <th>nunique</th>\n",
       "      <td>263811</td>\n",
       "      <td>51</td>\n",
       "      <td>3</td>\n",
       "      <td>380</td>\n",
       "      <td>207</td>\n",
       "      <td>6</td>\n",
       "      <td>6</td>\n",
       "      <td>7</td>\n",
       "      <td>0</td>\n",
       "      <td>4</td>\n",
       "      <td>...</td>\n",
       "      <td>3</td>\n",
       "      <td>6</td>\n",
       "      <td>5</td>\n",
       "      <td>9</td>\n",
       "      <td>5</td>\n",
       "      <td>8</td>\n",
       "      <td>6</td>\n",
       "      <td>2</td>\n",
       "      <td>2</td>\n",
       "      <td>34284</td>\n",
       "    </tr>\n",
       "    <tr>\n",
       "      <th>unique</th>\n",
       "      <td>[201201BS70001, 201201BS70002, 201201BS70003, ...</td>\n",
       "      <td>[1, 48, 3, 4, 5, 6, 7, 10, 11, 12, 13, 14, 16,...</td>\n",
       "      <td>[3, 2, 1]</td>\n",
       "      <td>[12, 1, 11, 28, 570, 3, 5, 4, 8, 2, 9, 30, 31,...</td>\n",
       "      <td>[E09000020, E09000033, E09000013, E09000005, E...</td>\n",
       "      <td>[3, 4, 5, 6, 1, 2]</td>\n",
       "      <td>[Single carriageway, One way street, Roundabou...</td>\n",
       "      <td>[30, 50, 40, 20, 70, 60, 10]</td>\n",
       "      <td>[nan]</td>\n",
       "      <td>[Automatic traffic signal, Giveway or uncontro...</td>\n",
       "      <td>...</td>\n",
       "      <td>[None within 50 metres, Control by other autho...</td>\n",
       "      <td>[Pedestrian phase at traffic signal junction, ...</td>\n",
       "      <td>[Darkness: Street lights present and lit, Dayl...</td>\n",
       "      <td>[Fine without high winds, Raining without high...</td>\n",
       "      <td>[Dry, Wet/Damp, Frost/Ice, Snow, Flood (Over 3...</td>\n",
       "      <td>[None, Roadworks, Mud, Auto traffic singal out...</td>\n",
       "      <td>[None, Other object in carriageway, Any animal...</td>\n",
       "      <td>[1, 2]</td>\n",
       "      <td>[Yes, No, nan]</td>\n",
       "      <td>[E01002821, E01004760, E01002893, E01002886, E...</td>\n",
       "    </tr>\n",
       "  </tbody>\n",
       "</table>\n",
       "<p>3 rows × 21 columns</p>\n",
       "</div>"
      ],
      "text/plain": [
       "                                                  Accident_Index  \\\n",
       "missing_ratio                                                  0   \n",
       "nunique                                                   263811   \n",
       "unique         [201201BS70001, 201201BS70002, 201201BS70003, ...   \n",
       "\n",
       "                                                    Police_Force  \\\n",
       "missing_ratio                                                  0   \n",
       "nunique                                                       51   \n",
       "unique         [1, 48, 3, 4, 5, 6, 7, 10, 11, 12, 13, 14, 16,...   \n",
       "\n",
       "              Accident_Severity  \\\n",
       "missing_ratio                 0   \n",
       "nunique                       3   \n",
       "unique                [3, 2, 1]   \n",
       "\n",
       "                                      Local_Authority_(District)  \\\n",
       "missing_ratio                                                  0   \n",
       "nunique                                                      380   \n",
       "unique         [12, 1, 11, 28, 570, 3, 5, 4, 8, 2, 9, 30, 31,...   \n",
       "\n",
       "                                       Local_Authority_(Highway)  \\\n",
       "missing_ratio                                                  0   \n",
       "nunique                                                      207   \n",
       "unique         [E09000020, E09000033, E09000013, E09000005, E...   \n",
       "\n",
       "                   1st_Road_Class  \\\n",
       "missing_ratio                   0   \n",
       "nunique                         6   \n",
       "unique         [3, 4, 5, 6, 1, 2]   \n",
       "\n",
       "                                                       Road_Type  \\\n",
       "missing_ratio                                                  0   \n",
       "nunique                                                        6   \n",
       "unique         [Single carriageway, One way street, Roundabou...   \n",
       "\n",
       "                                Speed_limit Junction_Detail  \\\n",
       "missing_ratio                             0             100   \n",
       "nunique                                   7               0   \n",
       "unique         [30, 50, 40, 20, 70, 60, 10]           [nan]   \n",
       "\n",
       "                                                Junction_Control  ...  \\\n",
       "missing_ratio                                             38.927  ...   \n",
       "nunique                                                        4  ...   \n",
       "unique         [Automatic traffic signal, Giveway or uncontro...  ...   \n",
       "\n",
       "                               Pedestrian_Crossing-Human_Control  \\\n",
       "missing_ratio                                                  0   \n",
       "nunique                                                        3   \n",
       "unique         [None within 50 metres, Control by other autho...   \n",
       "\n",
       "                         Pedestrian_Crossing-Physical_Facilities  \\\n",
       "missing_ratio                                                  0   \n",
       "nunique                                                        6   \n",
       "unique         [Pedestrian phase at traffic signal junction, ...   \n",
       "\n",
       "                                                Light_Conditions  \\\n",
       "missing_ratio                                                  0   \n",
       "nunique                                                        5   \n",
       "unique         [Darkness: Street lights present and lit, Dayl...   \n",
       "\n",
       "                                              Weather_Conditions  \\\n",
       "missing_ratio                                                  0   \n",
       "nunique                                                        9   \n",
       "unique         [Fine without high winds, Raining without high...   \n",
       "\n",
       "                                         Road_Surface_Conditions  \\\n",
       "missing_ratio                                           0.172343   \n",
       "nunique                                                        5   \n",
       "unique         [Dry, Wet/Damp, Frost/Ice, Snow, Flood (Over 3...   \n",
       "\n",
       "                                      Special_Conditions_at_Site  \\\n",
       "missing_ratio                                        0.000464536   \n",
       "nunique                                                        8   \n",
       "unique         [None, Roadworks, Mud, Auto traffic singal out...   \n",
       "\n",
       "                                             Carriageway_Hazards  \\\n",
       "missing_ratio                                        0.000696804   \n",
       "nunique                                                        6   \n",
       "unique         [None, Other object in carriageway, Any animal...   \n",
       "\n",
       "              Urban_or_Rural_Area Did_Police_Officer_Attend_Scene_of_Accident  \\\n",
       "missing_ratio                   0                                 0.000464536   \n",
       "nunique                         2                                           2   \n",
       "unique                     [1, 2]                              [Yes, No, nan]   \n",
       "\n",
       "                                       LSOA_of_Accident_Location  \n",
       "missing_ratio                                            6.66702  \n",
       "nunique                                                    34284  \n",
       "unique         [E01002821, E01004760, E01002893, E01002886, E...  \n",
       "\n",
       "[3 rows x 21 columns]"
      ]
     },
     "execution_count": 15,
     "metadata": {},
     "output_type": "execute_result"
    }
   ],
   "source": [
    "df_temp = df[[\"Accident_Index\", \"Police_Force\", \"Accident_Severity\", \"Local_Authority_(District)\", \"Local_Authority_(Highway)\", \"1st_Road_Class\", \"Road_Type\", \"Speed_limit\", \"Junction_Detail\", \"Junction_Control\", \"2nd_Road_Class\", \"Pedestrian_Crossing-Human_Control\", \"Pedestrian_Crossing-Physical_Facilities\", \"Light_Conditions\", \"Weather_Conditions\", \"Road_Surface_Conditions\", \"Special_Conditions_at_Site\", \"Carriageway_Hazards\", \"Urban_or_Rural_Area\", \"Did_Police_Officer_Attend_Scene_of_Accident\", \"LSOA_of_Accident_Location\"]]\n",
    "\n",
    "cate_col_profiles_df = df_temp.agg([missing_ratio,pd.Series.nunique,pd.Series.unique])\n",
    "cate_col_profiles_df"
   ]
  },
  {
   "cell_type": "markdown",
   "metadata": {},
   "source": [
    "Ở các cột categorical thì có vẻ giá trị thiếu đã nhiều hơn so với các cột Numeric."
   ]
  },
  {
   "cell_type": "markdown",
   "metadata": {},
   "source": [
    "# 3. Các câu hỏi cần trả lời"
   ]
  },
  {
   "cell_type": "markdown",
   "metadata": {},
   "source": [
    "### 1. Các district nào xảy ra nhiều tai nạn nhất (lấy top 3)? Trong các district trên các yếu tố ánh sáng, thời tiết, mặt đường ảnh hưởng như thế nào đến số lượng các vụ tai nạn?"
   ]
  },
  {
   "cell_type": "code",
   "execution_count": 15,
   "metadata": {},
   "outputs": [],
   "source": [
    "df['Local_Authority_(District)'] = df['Local_Authority_(District)'].astype('str')"
   ]
  },
  {
   "cell_type": "code",
   "execution_count": 16,
   "metadata": {},
   "outputs": [
    {
     "data": {
      "text/plain": [
       "Local_Authority_(District)\n",
       "300    7289\n",
       "204    5656\n",
       "1      4653\n",
       "Name: Accident_Index, dtype: int64"
      ]
     },
     "execution_count": 16,
     "metadata": {},
     "output_type": "execute_result"
    }
   ],
   "source": [
    "top_district_accident = df.groupby('Local_Authority_(District)')['Accident_Index'].count().nlargest(3)\n",
    "top_district_accident"
   ]
  },
  {
   "cell_type": "code",
   "execution_count": 17,
   "metadata": {},
   "outputs": [
    {
     "data": {
      "text/plain": [
       "<AxesSubplot:xlabel='Local_Authority_(District)'>"
      ]
     },
     "execution_count": 17,
     "metadata": {},
     "output_type": "execute_result"
    },
    {
     "data": {
      "image/png": "[encoded data removed]",
      "text/plain": [
       "<Figure size 432x288 with 1 Axes>"
      ]
     },
     "metadata": {
      "needs_background": "light"
     },
     "output_type": "display_data"
    }
   ],
   "source": [
    "top_district_accident.plot(kind = 'bar')"
   ]
  },
  {
   "cell_type": "code",
   "execution_count": 18,
   "metadata": {},
   "outputs": [
    {
     "data": {
      "text/html": [
       "<div>\n",
       "<style scoped>\n",
       "    .dataframe tbody tr th:only-of-type {\n",
       "        vertical-align: middle;\n",
       "    }\n",
       "\n",
       "    .dataframe tbody tr th {\n",
       "        vertical-align: top;\n",
       "    }\n",
       "\n",
       "    .dataframe thead th {\n",
       "        text-align: right;\n",
       "    }\n",
       "</style>\n",
       "<table border=\"1\" class=\"dataframe\">\n",
       "  <thead>\n",
       "    <tr style=\"text-align: right;\">\n",
       "      <th></th>\n",
       "      <th></th>\n",
       "      <th></th>\n",
       "      <th>0</th>\n",
       "    </tr>\n",
       "    <tr>\n",
       "      <th>Light_Conditions</th>\n",
       "      <th>Weather_Conditions</th>\n",
       "      <th>Road_Surface_Conditions</th>\n",
       "      <th></th>\n",
       "    </tr>\n",
       "  </thead>\n",
       "  <tbody>\n",
       "    <tr>\n",
       "      <th>Daylight: Street light present</th>\n",
       "      <th>Fine without high winds</th>\n",
       "      <th>Dry</th>\n",
       "      <td>9237</td>\n",
       "    </tr>\n",
       "    <tr>\n",
       "      <th>Darkness: Street lights present and lit</th>\n",
       "      <th>Fine without high winds</th>\n",
       "      <th>Dry</th>\n",
       "      <td>2533</td>\n",
       "    </tr>\n",
       "    <tr>\n",
       "      <th rowspan=\"2\" valign=\"top\">Daylight: Street light present</th>\n",
       "      <th>Raining without high winds</th>\n",
       "      <th>Wet/Damp</th>\n",
       "      <td>1041</td>\n",
       "    </tr>\n",
       "    <tr>\n",
       "      <th>Fine without high winds</th>\n",
       "      <th>Wet/Damp</th>\n",
       "      <td>959</td>\n",
       "    </tr>\n",
       "    <tr>\n",
       "      <th>Darkness: Street lights present and lit</th>\n",
       "      <th>Raining without high winds</th>\n",
       "      <th>Wet/Damp</th>\n",
       "      <td>812</td>\n",
       "    </tr>\n",
       "  </tbody>\n",
       "</table>\n",
       "</div>"
      ],
      "text/plain": [
       "                                                                                               0\n",
       "Light_Conditions                        Weather_Conditions         Road_Surface_Conditions      \n",
       "Daylight: Street light present          Fine without high winds    Dry                      9237\n",
       "Darkness: Street lights present and lit Fine without high winds    Dry                      2533\n",
       "Daylight: Street light present          Raining without high winds Wet/Damp                 1041\n",
       "                                        Fine without high winds    Wet/Damp                  959\n",
       "Darkness: Street lights present and lit Raining without high winds Wet/Damp                  812"
      ]
     },
     "execution_count": 18,
     "metadata": {},
     "output_type": "execute_result"
    }
   ],
   "source": [
    "df[((df['Local_Authority_(District)'] == top_district_accident.index[0]) | \\\n",
    "    (df['Local_Authority_(District)'] == top_district_accident.index[1]) | \\\n",
    "    (df['Local_Authority_(District)'] == top_district_accident.index[2]))] \\\n",
    "[['Light_Conditions','Weather_Conditions','Road_Surface_Conditions']].value_counts().nlargest(5).to_frame()"
   ]
  },
  {
   "cell_type": "code",
   "execution_count": 19,
   "metadata": {},
   "outputs": [
    {
     "data": {
      "text/html": [
       "<div>\n",
       "<style scoped>\n",
       "    .dataframe tbody tr th:only-of-type {\n",
       "        vertical-align: middle;\n",
       "    }\n",
       "\n",
       "    .dataframe tbody tr th {\n",
       "        vertical-align: top;\n",
       "    }\n",
       "\n",
       "    .dataframe thead th {\n",
       "        text-align: right;\n",
       "    }\n",
       "</style>\n",
       "<table border=\"1\" class=\"dataframe\">\n",
       "  <thead>\n",
       "    <tr style=\"text-align: right;\">\n",
       "      <th></th>\n",
       "      <th></th>\n",
       "      <th></th>\n",
       "      <th>0</th>\n",
       "    </tr>\n",
       "    <tr>\n",
       "      <th>Light_Conditions</th>\n",
       "      <th>Weather_Conditions</th>\n",
       "      <th>Road_Surface_Conditions</th>\n",
       "      <th></th>\n",
       "    </tr>\n",
       "  </thead>\n",
       "  <tbody>\n",
       "    <tr>\n",
       "      <th>Darkeness: No street lighting</th>\n",
       "      <th>Raining without high winds</th>\n",
       "      <th>Frost/Ice</th>\n",
       "      <td>1</td>\n",
       "    </tr>\n",
       "    <tr>\n",
       "      <th rowspan=\"2\" valign=\"top\">Darkness: Street lights present but unlit</th>\n",
       "      <th>Fine without high winds</th>\n",
       "      <th>Frost/Ice</th>\n",
       "      <td>1</td>\n",
       "    </tr>\n",
       "    <tr>\n",
       "      <th>Raining with high winds</th>\n",
       "      <th>Wet/Damp</th>\n",
       "      <td>1</td>\n",
       "    </tr>\n",
       "    <tr>\n",
       "      <th>Daylight: Street light present</th>\n",
       "      <th>Snowing with high winds</th>\n",
       "      <th>Dry</th>\n",
       "      <td>1</td>\n",
       "    </tr>\n",
       "    <tr>\n",
       "      <th>Darkeness: No street lighting</th>\n",
       "      <th>Other</th>\n",
       "      <th>Frost/Ice</th>\n",
       "      <td>1</td>\n",
       "    </tr>\n",
       "  </tbody>\n",
       "</table>\n",
       "</div>"
      ],
      "text/plain": [
       "                                                                                              0\n",
       "Light_Conditions                          Weather_Conditions         Road_Surface_Conditions   \n",
       "Darkeness: No street lighting             Raining without high winds Frost/Ice                1\n",
       "Darkness: Street lights present but unlit Fine without high winds    Frost/Ice                1\n",
       "                                          Raining with high winds    Wet/Damp                 1\n",
       "Daylight: Street light present            Snowing with high winds    Dry                      1\n",
       "Darkeness: No street lighting             Other                      Frost/Ice                1"
      ]
     },
     "execution_count": 19,
     "metadata": {},
     "output_type": "execute_result"
    }
   ],
   "source": [
    "df[((df['Local_Authority_(District)'] == top_district_accident.index[0]) | \\\n",
    "    (df['Local_Authority_(District)'] == top_district_accident.index[1]) | \\\n",
    "    (df['Local_Authority_(District)'] == top_district_accident.index[2]))] \\\n",
    "[['Light_Conditions','Weather_Conditions','Road_Surface_Conditions']].value_counts().nsmallest(5).to_frame()"
   ]
  },
  {
   "cell_type": "markdown",
   "metadata": {},
   "source": [
    "- **Nhận xét:**\n",
    "    - Thời tiết tốt thì số lượng phương tiện tham gia giao thông nhiều nên nhiều tai nạn\n",
    "    - Thời tiết xấu số lượng phương tiên tham gia ít nên ít tai nạn"
   ]
  },
  {
   "cell_type": "markdown",
   "metadata": {},
   "source": [
    "### 3. Việc giới hạn tốc độ trên đường có làm giảm số vụ tai nạn và mức độ nghiêm trọng không? Gần xong còn tính cái bảng ratio"
   ]
  },
  {
   "cell_type": "code",
   "execution_count": 26,
   "metadata": {},
   "outputs": [],
   "source": [
    "df['Speed_limit'] = df['Speed_limit'].astype('str')\n",
    "df['Accident_Severity'] = df['Accident_Severity'].astype('str')"
   ]
  },
  {
   "cell_type": "code",
   "execution_count": 27,
   "metadata": {},
   "outputs": [
    {
     "data": {
      "text/plain": [
       "30    279465\n",
       "60     61170\n",
       "40     35421\n",
       "70     29794\n",
       "50     16357\n",
       "20      8329\n",
       "10         1\n",
       "Name: Speed_limit, dtype: int64"
      ]
     },
     "execution_count": 27,
     "metadata": {},
     "output_type": "execute_result"
    }
   ],
   "source": [
    "accident_speed_limit = df['Speed_limit'].value_counts()\n",
    "accident_speed_limit"
   ]
  },
  {
   "cell_type": "code",
   "execution_count": 28,
   "metadata": {},
   "outputs": [
    {
     "data": {
      "text/plain": [
       "<AxesSubplot:>"
      ]
     },
     "execution_count": 28,
     "metadata": {},
     "output_type": "execute_result"
    },
    {
     "data": {
      "image/png": "[encoded data removed]",
      "text/plain": [
       "<Figure size 432x288 with 1 Axes>"
      ]
     },
     "metadata": {
      "needs_background": "light"
     },
     "output_type": "display_data"
    }
   ],
   "source": [
    "accident_speed_limit.sort_index().plot(kind='bar')"
   ]
  },
  {
   "cell_type": "code",
   "execution_count": 29,
   "metadata": {},
   "outputs": [
    {
     "name": "stderr",
     "output_type": "stream",
     "text": [
      "<ipython-input-29-937627cf167c>:1: FutureWarning: Indexing with multiple keys (implicitly converted to a tuple of keys) will be deprecated, use a list instead.\n",
      "  a = df.groupby(['Speed_limit','Accident_Severity'])['Number_of_Casualties','Number_of_Vehicles'].sum()\n"
     ]
    }
   ],
   "source": [
    "a = df.groupby(['Speed_limit','Accident_Severity'])['Number_of_Casualties','Number_of_Vehicles'].sum()"
   ]
  },
  {
   "cell_type": "code",
   "execution_count": 30,
   "metadata": {},
   "outputs": [],
   "source": [
    "b = df.groupby('Speed_limit')['Accident_Severity'].value_counts().rename('Number_Accident_Severity').to_frame()"
   ]
  },
  {
   "cell_type": "code",
   "execution_count": 31,
   "metadata": {},
   "outputs": [],
   "source": [
    "c =  pd.concat([a,b],axis=1)"
   ]
  },
  {
   "cell_type": "code",
   "execution_count": 33,
   "metadata": {},
   "outputs": [
    {
     "data": {
      "text/html": [
       "<div>\n",
       "<style scoped>\n",
       "    .dataframe tbody tr th:only-of-type {\n",
       "        vertical-align: middle;\n",
       "    }\n",
       "\n",
       "    .dataframe tbody tr th {\n",
       "        vertical-align: top;\n",
       "    }\n",
       "\n",
       "    .dataframe thead tr th {\n",
       "        text-align: left;\n",
       "    }\n",
       "\n",
       "    .dataframe thead tr:last-of-type th {\n",
       "        text-align: right;\n",
       "    }\n",
       "</style>\n",
       "<table border=\"1\" class=\"dataframe\">\n",
       "  <thead>\n",
       "    <tr>\n",
       "      <th></th>\n",
       "      <th colspan=\"3\" halign=\"left\">Number_of_Casualties</th>\n",
       "      <th colspan=\"3\" halign=\"left\">Number_of_Vehicles</th>\n",
       "      <th colspan=\"3\" halign=\"left\">Number_Accident_Severity</th>\n",
       "    </tr>\n",
       "    <tr>\n",
       "      <th>Accident_Severity</th>\n",
       "      <th>1</th>\n",
       "      <th>2</th>\n",
       "      <th>3</th>\n",
       "      <th>1</th>\n",
       "      <th>2</th>\n",
       "      <th>3</th>\n",
       "      <th>1</th>\n",
       "      <th>2</th>\n",
       "      <th>3</th>\n",
       "    </tr>\n",
       "    <tr>\n",
       "      <th>Speed_limit</th>\n",
       "      <th></th>\n",
       "      <th></th>\n",
       "      <th></th>\n",
       "      <th></th>\n",
       "      <th></th>\n",
       "      <th></th>\n",
       "      <th></th>\n",
       "      <th></th>\n",
       "      <th></th>\n",
       "    </tr>\n",
       "  </thead>\n",
       "  <tbody>\n",
       "    <tr>\n",
       "      <th>10</th>\n",
       "      <td>NaN</td>\n",
       "      <td>NaN</td>\n",
       "      <td>1.0</td>\n",
       "      <td>NaN</td>\n",
       "      <td>NaN</td>\n",
       "      <td>1.0</td>\n",
       "      <td>NaN</td>\n",
       "      <td>NaN</td>\n",
       "      <td>1.0</td>\n",
       "    </tr>\n",
       "    <tr>\n",
       "      <th>20</th>\n",
       "      <td>64.0</td>\n",
       "      <td>1458.0</td>\n",
       "      <td>8278.0</td>\n",
       "      <td>59.0</td>\n",
       "      <td>1861.0</td>\n",
       "      <td>11819.0</td>\n",
       "      <td>43.0</td>\n",
       "      <td>1245.0</td>\n",
       "      <td>7041.0</td>\n",
       "    </tr>\n",
       "    <tr>\n",
       "      <th>30</th>\n",
       "      <td>2454.0</td>\n",
       "      <td>45226.0</td>\n",
       "      <td>302435.0</td>\n",
       "      <td>2598.0</td>\n",
       "      <td>58328.0</td>\n",
       "      <td>438424.0</td>\n",
       "      <td>1691.0</td>\n",
       "      <td>36203.0</td>\n",
       "      <td>241571.0</td>\n",
       "    </tr>\n",
       "    <tr>\n",
       "      <th>40</th>\n",
       "      <td>761.0</td>\n",
       "      <td>7849.0</td>\n",
       "      <td>42035.0</td>\n",
       "      <td>733.0</td>\n",
       "      <td>9367.0</td>\n",
       "      <td>59224.0</td>\n",
       "      <td>447.0</td>\n",
       "      <td>5295.0</td>\n",
       "      <td>29679.0</td>\n",
       "    </tr>\n",
       "    <tr>\n",
       "      <th>50</th>\n",
       "      <td>639.0</td>\n",
       "      <td>4321.0</td>\n",
       "      <td>19687.0</td>\n",
       "      <td>621.0</td>\n",
       "      <td>4854.0</td>\n",
       "      <td>27264.0</td>\n",
       "      <td>330.0</td>\n",
       "      <td>2590.0</td>\n",
       "      <td>13437.0</td>\n",
       "    </tr>\n",
       "    <tr>\n",
       "      <th>60</th>\n",
       "      <td>3626.0</td>\n",
       "      <td>20596.0</td>\n",
       "      <td>67514.0</td>\n",
       "      <td>3368.0</td>\n",
       "      <td>21578.0</td>\n",
       "      <td>84272.0</td>\n",
       "      <td>1784.0</td>\n",
       "      <td>12213.0</td>\n",
       "      <td>47173.0</td>\n",
       "    </tr>\n",
       "    <tr>\n",
       "      <th>70</th>\n",
       "      <td>1239.0</td>\n",
       "      <td>6708.0</td>\n",
       "      <td>38961.0</td>\n",
       "      <td>1217.0</td>\n",
       "      <td>7362.0</td>\n",
       "      <td>54344.0</td>\n",
       "      <td>607.0</td>\n",
       "      <td>3649.0</td>\n",
       "      <td>25538.0</td>\n",
       "    </tr>\n",
       "  </tbody>\n",
       "</table>\n",
       "</div>"
      ],
      "text/plain": [
       "                  Number_of_Casualties                    Number_of_Vehicles  \\\n",
       "Accident_Severity                    1        2         3                  1   \n",
       "Speed_limit                                                                    \n",
       "10                                 NaN      NaN       1.0                NaN   \n",
       "20                                64.0   1458.0    8278.0               59.0   \n",
       "30                              2454.0  45226.0  302435.0             2598.0   \n",
       "40                               761.0   7849.0   42035.0              733.0   \n",
       "50                               639.0   4321.0   19687.0              621.0   \n",
       "60                              3626.0  20596.0   67514.0             3368.0   \n",
       "70                              1239.0   6708.0   38961.0             1217.0   \n",
       "\n",
       "                                     Number_Accident_Severity           \\\n",
       "Accident_Severity        2         3                        1        2   \n",
       "Speed_limit                                                              \n",
       "10                     NaN       1.0                      NaN      NaN   \n",
       "20                  1861.0   11819.0                     43.0   1245.0   \n",
       "30                 58328.0  438424.0                   1691.0  36203.0   \n",
       "40                  9367.0   59224.0                    447.0   5295.0   \n",
       "50                  4854.0   27264.0                    330.0   2590.0   \n",
       "60                 21578.0   84272.0                   1784.0  12213.0   \n",
       "70                  7362.0   54344.0                    607.0   3649.0   \n",
       "\n",
       "                             \n",
       "Accident_Severity         3  \n",
       "Speed_limit                  \n",
       "10                      1.0  \n",
       "20                   7041.0  \n",
       "30                 241571.0  \n",
       "40                  29679.0  \n",
       "50                  13437.0  \n",
       "60                  47173.0  \n",
       "70                  25538.0  "
      ]
     },
     "execution_count": 33,
     "metadata": {},
     "output_type": "execute_result"
    }
   ],
   "source": [
    "temp = c.unstack(-1)\n",
    "temp"
   ]
  },
  {
   "cell_type": "markdown",
   "metadata": {},
   "source": [
    "đang tìm lệnh tính cái ratio của bảng trên"
   ]
  },
  {
   "cell_type": "code",
   "execution_count": 56,
   "metadata": {},
   "outputs": [
    {
     "data": {
      "text/html": [
       "<div>\n",
       "<style scoped>\n",
       "    .dataframe tbody tr th:only-of-type {\n",
       "        vertical-align: middle;\n",
       "    }\n",
       "\n",
       "    .dataframe tbody tr th {\n",
       "        vertical-align: top;\n",
       "    }\n",
       "\n",
       "    .dataframe thead th {\n",
       "        text-align: right;\n",
       "    }\n",
       "</style>\n",
       "<table border=\"1\" class=\"dataframe\">\n",
       "  <thead>\n",
       "    <tr style=\"text-align: right;\">\n",
       "      <th>Accident_Severity</th>\n",
       "      <th>1</th>\n",
       "      <th>2</th>\n",
       "      <th>3</th>\n",
       "    </tr>\n",
       "    <tr>\n",
       "      <th>Speed_limit</th>\n",
       "      <th></th>\n",
       "      <th></th>\n",
       "      <th></th>\n",
       "    </tr>\n",
       "  </thead>\n",
       "  <tbody>\n",
       "    <tr>\n",
       "      <th>10</th>\n",
       "      <td>NaN</td>\n",
       "      <td>NaN</td>\n",
       "      <td>1.000000</td>\n",
       "    </tr>\n",
       "    <tr>\n",
       "      <th>20</th>\n",
       "      <td>0.005163</td>\n",
       "      <td>0.149478</td>\n",
       "      <td>0.845360</td>\n",
       "    </tr>\n",
       "    <tr>\n",
       "      <th>30</th>\n",
       "      <td>0.006051</td>\n",
       "      <td>0.129544</td>\n",
       "      <td>0.864405</td>\n",
       "    </tr>\n",
       "    <tr>\n",
       "      <th>40</th>\n",
       "      <td>0.012620</td>\n",
       "      <td>0.149488</td>\n",
       "      <td>0.837893</td>\n",
       "    </tr>\n",
       "    <tr>\n",
       "      <th>50</th>\n",
       "      <td>0.020175</td>\n",
       "      <td>0.158342</td>\n",
       "      <td>0.821483</td>\n",
       "    </tr>\n",
       "    <tr>\n",
       "      <th>60</th>\n",
       "      <td>0.029165</td>\n",
       "      <td>0.199657</td>\n",
       "      <td>0.771179</td>\n",
       "    </tr>\n",
       "    <tr>\n",
       "      <th>70</th>\n",
       "      <td>0.020373</td>\n",
       "      <td>0.122474</td>\n",
       "      <td>0.857152</td>\n",
       "    </tr>\n",
       "  </tbody>\n",
       "</table>\n",
       "</div>"
      ],
      "text/plain": [
       "Accident_Severity         1         2         3\n",
       "Speed_limit                                    \n",
       "10                      NaN       NaN  1.000000\n",
       "20                 0.005163  0.149478  0.845360\n",
       "30                 0.006051  0.129544  0.864405\n",
       "40                 0.012620  0.149488  0.837893\n",
       "50                 0.020175  0.158342  0.821483\n",
       "60                 0.029165  0.199657  0.771179\n",
       "70                 0.020373  0.122474  0.857152"
      ]
     },
     "execution_count": 56,
     "metadata": {},
     "output_type": "execute_result"
    }
   ],
   "source": [
    "h = temp['Number_Accident_Severity'].sum(axis=1)\n",
    "temp['Number_Accident_Severity'].apply(lambda s: s/h, axis=0)"
   ]
  },
  {
   "cell_type": "code",
   "execution_count": 57,
   "metadata": {},
   "outputs": [
    {
     "data": {
      "text/html": [
       "<div>\n",
       "<style scoped>\n",
       "    .dataframe tbody tr th:only-of-type {\n",
       "        vertical-align: middle;\n",
       "    }\n",
       "\n",
       "    .dataframe tbody tr th {\n",
       "        vertical-align: top;\n",
       "    }\n",
       "\n",
       "    .dataframe thead th {\n",
       "        text-align: right;\n",
       "    }\n",
       "</style>\n",
       "<table border=\"1\" class=\"dataframe\">\n",
       "  <thead>\n",
       "    <tr style=\"text-align: right;\">\n",
       "      <th>Accident_Severity</th>\n",
       "      <th>1</th>\n",
       "      <th>2</th>\n",
       "      <th>3</th>\n",
       "    </tr>\n",
       "    <tr>\n",
       "      <th>Speed_limit</th>\n",
       "      <th></th>\n",
       "      <th></th>\n",
       "      <th></th>\n",
       "    </tr>\n",
       "  </thead>\n",
       "  <tbody>\n",
       "    <tr>\n",
       "      <th>10</th>\n",
       "      <td>NaN</td>\n",
       "      <td>NaN</td>\n",
       "      <td>1.000000</td>\n",
       "    </tr>\n",
       "    <tr>\n",
       "      <th>20</th>\n",
       "      <td>0.006531</td>\n",
       "      <td>0.148776</td>\n",
       "      <td>0.844694</td>\n",
       "    </tr>\n",
       "    <tr>\n",
       "      <th>30</th>\n",
       "      <td>0.007009</td>\n",
       "      <td>0.129175</td>\n",
       "      <td>0.863816</td>\n",
       "    </tr>\n",
       "    <tr>\n",
       "      <th>40</th>\n",
       "      <td>0.015026</td>\n",
       "      <td>0.154981</td>\n",
       "      <td>0.829993</td>\n",
       "    </tr>\n",
       "    <tr>\n",
       "      <th>50</th>\n",
       "      <td>0.025926</td>\n",
       "      <td>0.175315</td>\n",
       "      <td>0.798758</td>\n",
       "    </tr>\n",
       "    <tr>\n",
       "      <th>60</th>\n",
       "      <td>0.039526</td>\n",
       "      <td>0.224514</td>\n",
       "      <td>0.735960</td>\n",
       "    </tr>\n",
       "    <tr>\n",
       "      <th>70</th>\n",
       "      <td>0.026413</td>\n",
       "      <td>0.143003</td>\n",
       "      <td>0.830583</td>\n",
       "    </tr>\n",
       "  </tbody>\n",
       "</table>\n",
       "</div>"
      ],
      "text/plain": [
       "Accident_Severity         1         2         3\n",
       "Speed_limit                                    \n",
       "10                      NaN       NaN  1.000000\n",
       "20                 0.006531  0.148776  0.844694\n",
       "30                 0.007009  0.129175  0.863816\n",
       "40                 0.015026  0.154981  0.829993\n",
       "50                 0.025926  0.175315  0.798758\n",
       "60                 0.039526  0.224514  0.735960\n",
       "70                 0.026413  0.143003  0.830583"
      ]
     },
     "execution_count": 57,
     "metadata": {},
     "output_type": "execute_result"
    }
   ],
   "source": [
    "h = temp['Number_of_Casualties'].sum(axis=1)\n",
    "temp['Number_of_Casualties'].apply(lambda s: s/h, axis=0)"
   ]
  },
  {
   "cell_type": "code",
   "execution_count": 58,
   "metadata": {},
   "outputs": [
    {
     "data": {
      "text/html": [
       "<div>\n",
       "<style scoped>\n",
       "    .dataframe tbody tr th:only-of-type {\n",
       "        vertical-align: middle;\n",
       "    }\n",
       "\n",
       "    .dataframe tbody tr th {\n",
       "        vertical-align: top;\n",
       "    }\n",
       "\n",
       "    .dataframe thead th {\n",
       "        text-align: right;\n",
       "    }\n",
       "</style>\n",
       "<table border=\"1\" class=\"dataframe\">\n",
       "  <thead>\n",
       "    <tr style=\"text-align: right;\">\n",
       "      <th>Accident_Severity</th>\n",
       "      <th>1</th>\n",
       "      <th>2</th>\n",
       "      <th>3</th>\n",
       "    </tr>\n",
       "    <tr>\n",
       "      <th>Speed_limit</th>\n",
       "      <th></th>\n",
       "      <th></th>\n",
       "      <th></th>\n",
       "    </tr>\n",
       "  </thead>\n",
       "  <tbody>\n",
       "    <tr>\n",
       "      <th>10</th>\n",
       "      <td>NaN</td>\n",
       "      <td>NaN</td>\n",
       "      <td>1.000000</td>\n",
       "    </tr>\n",
       "    <tr>\n",
       "      <th>20</th>\n",
       "      <td>0.004294</td>\n",
       "      <td>0.135454</td>\n",
       "      <td>0.860252</td>\n",
       "    </tr>\n",
       "    <tr>\n",
       "      <th>30</th>\n",
       "      <td>0.005203</td>\n",
       "      <td>0.116808</td>\n",
       "      <td>0.877989</td>\n",
       "    </tr>\n",
       "    <tr>\n",
       "      <th>40</th>\n",
       "      <td>0.010574</td>\n",
       "      <td>0.135119</td>\n",
       "      <td>0.854307</td>\n",
       "    </tr>\n",
       "    <tr>\n",
       "      <th>50</th>\n",
       "      <td>0.018968</td>\n",
       "      <td>0.148264</td>\n",
       "      <td>0.832768</td>\n",
       "    </tr>\n",
       "    <tr>\n",
       "      <th>60</th>\n",
       "      <td>0.030837</td>\n",
       "      <td>0.197568</td>\n",
       "      <td>0.771594</td>\n",
       "    </tr>\n",
       "    <tr>\n",
       "      <th>70</th>\n",
       "      <td>0.019341</td>\n",
       "      <td>0.117000</td>\n",
       "      <td>0.863659</td>\n",
       "    </tr>\n",
       "  </tbody>\n",
       "</table>\n",
       "</div>"
      ],
      "text/plain": [
       "Accident_Severity         1         2         3\n",
       "Speed_limit                                    \n",
       "10                      NaN       NaN  1.000000\n",
       "20                 0.004294  0.135454  0.860252\n",
       "30                 0.005203  0.116808  0.877989\n",
       "40                 0.010574  0.135119  0.854307\n",
       "50                 0.018968  0.148264  0.832768\n",
       "60                 0.030837  0.197568  0.771594\n",
       "70                 0.019341  0.117000  0.863659"
      ]
     },
     "execution_count": 58,
     "metadata": {},
     "output_type": "execute_result"
    }
   ],
   "source": [
    "h = temp['Number_of_Vehicles'].sum(axis=1)\n",
    "temp['Number_of_Vehicles'].apply(lambda s: s/h, axis=0)"
   ]
  },
  {
   "cell_type": "markdown",
   "metadata": {},
   "source": [
    "# 4. Nhìn lại quá trình làm đồ án"
   ]
  },
  {
   "cell_type": "markdown",
   "metadata": {},
   "source": [
    "# 5. Tài liệu tham khảo"
   ]
  },
  {
   "cell_type": "code",
   "execution_count": null,
   "metadata": {},
   "outputs": [],
   "source": []
  }
 ],
 "metadata": {
  "kernelspec": {
   "display_name": "Python 3",
   "language": "python",
   "name": "python3"
  },
  "language_info": {
   "codemirror_mode": {
    "name": "ipython",
    "version": 3
   },
   "file_extension": ".py",
   "mimetype": "text/x-python",
   "name": "python",
   "nbconvert_exporter": "python",
   "pygments_lexer": "ipython3",
   "version": "3.8.5"
  }
 },
 "nbformat": 4,
 "nbformat_minor": 4
}
